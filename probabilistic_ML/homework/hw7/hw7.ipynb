{
 "cells": [
  {
   "cell_type": "markdown",
   "id": "a22882a3-2af9-44ed-829d-d254864ed184",
   "metadata": {},
   "source": [
    "# STA 561 HW 7/8 {-}\n",
    "\n",
    "Authors  \n",
    " -  Alonso Guerrero Castaneda (UID: 1194613)  \n",
    " -  Eli Gnesin (UID: 1172961)  \n",
    " -  Tommy Misikoff (UID: 1166813)  \n",
    " -  Sanskriti Purohit (UID: 1179957)  \n",
    " -  Will Tirone (UID: 1130904)  \n",
    "\n",
    "TA: Rick Presman "
   ]
  },
  {
   "cell_type": "code",
   "execution_count": 1,
   "id": "ae42df29-0ef6-456b-a3ba-6175f97b0084",
   "metadata": {},
   "outputs": [],
   "source": [
    "#Import Lines\n",
    "import numpy as np\n",
    "import pandas as pd\n",
    "import matplotlib.pyplot as plt\n",
    "import seaborn as sns\n",
    "import statsmodels.api as sm\n",
    "from sklearn import datasets\n",
    "from sklearn.ensemble import RandomForestClassifier\n",
    "from scipy.spatial import ConvexHull"
   ]
  },
  {
   "cell_type": "markdown",
   "id": "960c7ae8-737d-44e4-9fd2-904e125948c7",
   "metadata": {
    "tags": []
   },
   "source": [
    "## Homework 7: Question 1 {-}\n",
    "\n",
    "What is the optimal decision rule $\\pi$?\n",
    "\n",
    "We can base our decision rule $\\pi$ on the same conditions as A, i.e. assign the decision 0 when $|X|>\\tau$ and 1 when $|X|\\leq\\tau$. Further, we can find the optimum $\\tau$ for which the value $V(\\pi)$ is maximized. For this question, we explore $\\tau = 0.01$ and $\\tau = 0.025$ by simulation."
   ]
  },
  {
   "cell_type": "code",
   "execution_count": 2,
   "id": "d344695f-c151-4773-8994-80b97ef965c2",
   "metadata": {},
   "outputs": [
    {
     "name": "stdout",
     "output_type": "stream",
     "text": [
      "The proportion of significant betas at alpha = 0.05 with tau = 0.01 was 0.052\n",
      "The proportion of significant betas at alpha = 0.05 with tau = 0.025 was 0.056\n"
     ]
    },
    {
     "data": {
      "image/png": "[encoded data removed]",
      "text/plain": [
       "<Figure size 576x432 with 1 Axes>"
      ]
     },
     "metadata": {
      "needs_background": "light"
     },
     "output_type": "display_data"
    }
   ],
   "source": [
    "#Simulation with tau = 0.01 and tau = 0.025\n",
    "n = 500\n",
    "B = 1000\n",
    "b0 = b1 = b2 = 1\n",
    "b3 = 0.5\n",
    "tau = [0.01, 0.025]\n",
    "p_values = [[],[]]\n",
    "\n",
    "#Dataframes of betas for storage\n",
    "betas0 = pd.DataFrame(columns = [\"T_0.01\", \"T_0.025\"])\n",
    "betas1 = pd.DataFrame(columns = [\"T_0.01\", \"T_0.025\"])\n",
    "betas2 = pd.DataFrame(columns = [\"T_0.01\", \"T_0.025\"])\n",
    "betas3 = pd.DataFrame(columns = [\"T_0.01\", \"T_0.025\"])\n",
    "\n",
    "#Create our random number generator\n",
    "rng = np.random.default_rng(seed = 0)\n",
    "\n",
    "for b in range(B):\n",
    "    #Create our X\n",
    "    samp = rng.normal(loc = 0, scale = 1, size = n)\n",
    "    X = np.power(samp, 5) #If X^{1/5} is N(0,1), then X is N(0,1)^5\n",
    "    #print(X)\n",
    "\n",
    "    for t in tau:\n",
    "        #Create A\n",
    "        A = [1 if np.abs(x) <= t else 0 for x in X]\n",
    "        #print(A)\n",
    "\n",
    "        #Create Y\n",
    "        err = rng.normal(loc = 0, scale = 1, size = n)\n",
    "        Y = (b0 * np.ones(n)) + (b1 * A) + (b2 * X) + (b3 * (A * X)) + err\n",
    "        #print(Y)\n",
    "\n",
    "        #Build a dataframe\n",
    "        df = pd.DataFrame(list(zip(X, A, Y)))\n",
    "        df.columns = [\"X\", \"A\", \"Y\"]\n",
    "\n",
    "        #Now the OLS\n",
    "        mod = sm.OLS.from_formula(\"Y ~ A + X + A*X\", data = df)\n",
    "        res = mod.fit()\n",
    "        \n",
    "        #Storing the values\n",
    "        if t == 0.01:\n",
    "            p_values[0].append(res.pvalues[3])\n",
    "            bt0 = res.params[0]\n",
    "            bt1 = res.params[1]\n",
    "            bt2 = res.params[2]\n",
    "            bt3 = res.params[3]\n",
    "        else:\n",
    "            p_values[1].append(res.pvalues[3])\n",
    "            betas0.loc[len(betas0)] = [bt0, res.params[0]]\n",
    "            betas1.loc[len(betas1)] = [bt1, res.params[1]]\n",
    "            betas2.loc[len(betas2)] = [bt2, res.params[2]]\n",
    "            betas3.loc[len(betas3)] = [bt3, res.params[3]]\n",
    "\n",
    "print(f\"The proportion of significant betas at alpha = 0.05 with tau = 0.01 was {np.mean([1 if x < 0.05 else 0 for x in p_values[0]])}\")\n",
    "print(f\"The proportion of significant betas at alpha = 0.05 with tau = 0.025 was {np.mean([1 if x < 0.05 else 0 for x in p_values[1]])}\")\n",
    "\n",
    "plt.figure(figsize = (8,6))\n",
    "sns.histplot(data = betas3, stat = \"density\", kde = True)\n",
    "plt.show()"
   ]
  },
  {
   "cell_type": "code",
   "execution_count": 3,
   "id": "f8ecebfc-c38c-4b99-8634-ea4dff29a50d",
   "metadata": {},
   "outputs": [
    {
     "name": "stdout",
     "output_type": "stream",
     "text": [
      "Beta 3:\n",
      "T_0.01    -1.058091\n",
      "T_0.025    0.610253\n",
      "dtype: float64\n",
      "T_0.01     27.792196\n",
      "T_0.025    10.314448\n",
      "dtype: float64\n",
      "\n",
      "Beta 2:\n",
      "T_0.01     0.999921\n",
      "T_0.025    1.000097\n",
      "dtype: float64\n",
      "T_0.01     0.001843\n",
      "T_0.025    0.001867\n",
      "dtype: float64\n",
      "\n",
      "Beta 1:\n",
      "T_0.01     1.003534\n",
      "T_0.025    0.993367\n",
      "dtype: float64\n",
      "T_0.01     0.095065\n",
      "T_0.025    0.095357\n",
      "dtype: float64\n",
      "\n",
      "Beta 0:\n",
      "T_0.01     0.997749\n",
      "T_0.025    1.004621\n",
      "dtype: float64\n",
      "T_0.01     0.053929\n",
      "T_0.025    0.057699\n",
      "dtype: float64\n",
      "\n"
     ]
    }
   ],
   "source": [
    "#Print the mean and standard deviation for each beta under each tau\n",
    "\n",
    "print(\"Beta 3:\")\n",
    "print(betas3.mean())\n",
    "print(betas3.std(axis = 0))\n",
    "print()\n",
    "print(\"Beta 2:\")\n",
    "print(betas2.mean())\n",
    "print(betas2.std(axis = 0))\n",
    "print()\n",
    "print(\"Beta 1:\")\n",
    "print(betas1.mean())\n",
    "print(betas1.std(axis = 0))\n",
    "print()\n",
    "print(\"Beta 0:\")\n",
    "print(betas0.mean())\n",
    "print(betas0.std(axis = 0))\n",
    "print()"
   ]
  },
  {
   "cell_type": "markdown",
   "id": "303fd988-4ea3-495d-8e1c-d057d3d3285c",
   "metadata": {},
   "source": [
    "Looking at the results of the simulation above, at a level of $\\alpha = 0.05$, the proportion of significant $\\beta_3$ for $\\tau = 0.01$ is 5.2% and the proportion of significant $\\beta_3$ for $\\tau = 0.025$ is 5.6% (meaning if we were to conduct a hypothesis where $H_0: \\beta_3 = 0.5$ and $H_1: \\beta_3 \\neq 0.5$, we would fail to reject the null hypothesis at $\\alpha = 0.05$ by the slimmest of margins). Looking at a histogram of $\\beta_3$, further, shows that $\\beta_3$ is highly dispersed. From the summary statistics, while $\\beta_0, \\beta_1, \\beta_2$ all are very tightly distributed around their true means of 1, with standard deviations less than 0.1, so it is fair to say that $\\hat{\\beta_0}, \\hat{\\beta_1}, \\hat{\\beta_2}$ are relatively good estimators of $\\beta_0, \\beta_1, \\beta_2$, it appears that the same does not hold true for $\\beta_3$, which has a standard deviation of 27 for $\\tau = 0.01$ and 10 for $\\tau = 0.025$. From this, we can see that the OLS model is unstable, at least in its assessment of $\\beta_3$.\n",
    "\n",
    "From this, it appears that at least one of the standard causal assumptions are being violated here. With the assumption of *positivity*, let $\\epsilon > 0$ be fixed. Then suppose we have $x \\in \\mathbb{X}$. Clearly, if $|x| \\leq \\tau$, then $A = 1$ and $P(A = 0 | X = x) = 0 < \\epsilon$, and likewise if $|x| > \\tau$, then $A = 0$ and $P(A = 1| X = x) = 0 < \\epsilon$. Regardless, of what $x \\in \\mathbb{X}$ actually is, then, we have $P(A = a|X = x) = 0 < \\epsilon$ for one of $A \\in \\{0,1\\}$, and the assumption of positivity is violated. Concretely, the issue is that we define $A$ to be an indicator variable based on X, in such a way that there is zero overlap between the treatment groups $A = 0$ and $A = 1$, and so an individual has no possibility of being assigned to either group. For contrast, below we consider the same exact setup, except this time, we flip a coin with 95% probability of being a 1 if $|X| \\leq \\tau$ and we flip a coin with 5% probability of being a 1 if $|X| > \\tau$, and thus we allow minimal overlap between groups. In this case, with even a very minimal overlap, $\\beta_3$ is distributed tightly around its true value of $0.05$ and over 99% of the values of $\\beta_3$ have a significant p-value at $\\alpha = 0.05$. From this, we can see that the violation of the positivity assumption is a root cause of the high variance in estimating $\\beta_3$ above.\n",
    "\n",
    "We now consider the other two standard assumptions. First, with *consistency*, we have no interaction going on between $X$ draws with respect to an individal $Y$, and so $Y$ is the potential outcome $Y^*(A)$ under action $A$, which is uniquely determined only by the single $X$ draw, and therefore we have consistency. Similarly, for the assumption of *no unmeasured confounders*, since we know $A$ concretely given $X$ (and each draw of $X$ is independent from every other draw of $X$), having $X$ contains all the necessary information for determining $A$, and consequently for determining $Y$, so there are no unmeasured counfounders that need to be accounted for. Thus, the other two standard causal assumptions are not violated, and it is the violation of the *positivity* assumption that is causing the instability in the estimation of $\\hat{\\beta_3}$."
   ]
  },
  {
   "cell_type": "code",
   "execution_count": 4,
   "id": "2c253410-4923-4710-8ecc-2ff5a0b49c13",
   "metadata": {},
   "outputs": [
    {
     "name": "stdout",
     "output_type": "stream",
     "text": [
      "The proportion of significant betas at alpha = 0.05 with tau = 0.01 was 0.995\n",
      "The proportion of significant betas at alpha = 0.05 with tau = 0.025 was 0.996\n",
      "Beta 3:\n",
      "T_0.01     0.499411\n",
      "T_0.025    0.501900\n",
      "dtype: float64\n",
      "T_0.01     0.055642\n",
      "T_0.025    0.039848\n",
      "dtype: float64\n"
     ]
    },
    {
     "data": {
      "image/png": "[encoded data removed]",
      "text/plain": [
       "<Figure size 576x432 with 1 Axes>"
      ]
     },
     "metadata": {
      "needs_background": "light"
     },
     "output_type": "display_data"
    }
   ],
   "source": [
    "p_values = [[],[]]\n",
    "betas3 = pd.DataFrame(columns = [\"T_0.01\", \"T_0.025\"])\n",
    "\n",
    "#Create our random number generator\n",
    "rng = np.random.default_rng(seed = 0)\n",
    "\n",
    "for b in range(B):\n",
    "    # Create our X\n",
    "    samp = rng.normal(loc = 0, scale = 1, size = n)\n",
    "    X = np.power(samp, 5) #If X^{1/5} is N(0,1), then X is N(0,1)^5\n",
    "    #print(X)\n",
    "\n",
    "    for t in tau:\n",
    "        #Create A\n",
    "        A = [rng.binomial(1, 0.95) if np.abs(x) <= t else rng.binomial(1, 0.05) for x in X]\n",
    "        #print(A)\n",
    "\n",
    "        #Create Y\n",
    "        err = rng.normal(loc = 0, scale = 1, size = n)\n",
    "        Y = (b0 * np.ones(n)) + (b1 * A) + (b2 * X) + (b3 * (A * X)) + err\n",
    "        #print(Y)\n",
    "\n",
    "        #Build a dataframe\n",
    "        df = pd.DataFrame(list(zip(X, A, Y)))\n",
    "        df.columns = [\"X\", \"A\", \"Y\"]\n",
    "\n",
    "        #Now the OLS\n",
    "        mod = sm.OLS.from_formula(\"Y ~ A + X + A*X\", data = df)\n",
    "        res = mod.fit()\n",
    "        #print(res.pvalues[3]) #This is the p-value for beta_3\n",
    "        if t == 0.01:\n",
    "            p_values[0].append(res.pvalues[3])\n",
    "            bt3 = res.params[3]\n",
    "        else:\n",
    "            p_values[1].append(res.pvalues[3])\n",
    "            betas3.loc[len(betas3)] = [bt3, res.params[3]]\n",
    "\n",
    "print(f\"The proportion of significant betas at alpha = 0.05 with tau = 0.01 was {np.mean([1 if x < 0.05 else 0 for x in p_values[0]])}\")\n",
    "print(f\"The proportion of significant betas at alpha = 0.05 with tau = 0.025 was {np.mean([1 if x < 0.05 else 0 for x in p_values[1]])}\")\n",
    "\n",
    "print(\"Beta 3:\")\n",
    "print(betas3.mean())\n",
    "print(betas3.std(axis = 0))\n",
    "\n",
    "plt.figure(figsize = (8,6))\n",
    "sns.histplot(data = betas3, stat = \"density\", kde = True)\n",
    "plt.show()"
   ]
  },
  {
   "cell_type": "markdown",
   "id": "b07478d8-d7c8-442a-a9bb-01ffa32bde53",
   "metadata": {},
   "source": [
    "## Homework 8: Question 2 {-}\n",
    "\n",
    "We are choosing not to do this question and to let Homework 8 be one of our dropped homeworks."
   ]
  }
 ],
 "metadata": {
  "date": "April 17, 2023",
  "kernelspec": {
   "display_name": "Python 3 (ipykernel)",
   "language": "python",
   "name": "python3"
  },
  "language_info": {
   "codemirror_mode": {
    "name": "ipython",
    "version": 3
   },
   "file_extension": ".py",
   "mimetype": "text/x-python",
   "name": "python",
   "nbconvert_exporter": "python",
   "pygments_lexer": "ipython3",
   "version": "3.9.12"
  },
  "title": "STA 561 Homework 7/8"
 },
 "nbformat": 4,
 "nbformat_minor": 5
}
