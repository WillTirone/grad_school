{
 "cells": [
  {
   "cell_type": "markdown",
   "id": "33681dcb-cf46-424c-a37a-a0e259fe8b17",
   "metadata": {},
   "source": [
    "## Project"
   ]
  },
  {
   "cell_type": "code",
   "execution_count": 52,
   "id": "671a14c7-0df6-4dcf-9b85-0e93f7ec8778",
   "metadata": {
    "scrolled": true
   },
   "outputs": [],
   "source": [
    "import pandas as pd\n",
    "import numpy as np\n",
    "import requests\n",
    "import os\n",
    "import xarray as xr\n",
    "#from netCDF4 import Dataset\n",
    "import tempfile\n",
    "from scipy.spatial.distance import cdist\n",
    "from tqdm import tqdm\n",
    "from math import radians, cos, sin, asin, sqrt\n",
    "from sklearn.metrics import mean_squared_error\n",
    "from sklearn.model_selection import train_test_split, GridSearchCV\n",
    "from sklearn import ensemble\n",
    "import matplotlib.pyplot as plt\n",
    "import shap\n",
    "from shapely.geometry import Point\n",
    "import geopandas as gpd\n",
    "from geopandas import GeoDataFrame"
   ]
  },
  {
   "cell_type": "markdown",
   "id": "a4cd372a-2bc1-4ba1-a62a-caaf061d49fc",
   "metadata": {},
   "source": [
    "### 1. Data Collection"
   ]
  },
  {
   "cell_type": "markdown",
   "id": "441d984b-df2c-4029-ab76-5f62578fbb8b",
   "metadata": {},
   "source": [
    "#### 1.1 Biomass data"
   ]
  },
  {
   "cell_type": "markdown",
   "id": "2fc458d8-eff5-4626-bcde-b5dba3c6472f",
   "metadata": {},
   "source": [
    "Spatio-temporal data for walleye pollock in the Gulf of Alaska extracted from the NOAA Fisheries website: https://apps-st.fisheries.noaa.gov/dismap/DisMAP.html#single-species-distributions"
   ]
  },
  {
   "cell_type": "code",
   "execution_count": 3,
   "id": "65ca7ad6-e153-4095-8e33-0e65b0bbc7a4",
   "metadata": {
    "scrolled": true
   },
   "outputs": [
    {
     "data": {
      "text/html": [
       "<div>\n",
       "<style scoped>\n",
       "    .dataframe tbody tr th:only-of-type {\n",
       "        vertical-align: middle;\n",
       "    }\n",
       "\n",
       "    .dataframe tbody tr th {\n",
       "        vertical-align: top;\n",
       "    }\n",
       "\n",
       "    .dataframe thead th {\n",
       "        text-align: right;\n",
       "    }\n",
       "</style>\n",
       "<table border=\"1\" class=\"dataframe\">\n",
       "  <thead>\n",
       "    <tr style=\"text-align: right;\">\n",
       "      <th></th>\n",
       "      <th>HaulID</th>\n",
       "      <th>Stratum</th>\n",
       "      <th>LAT</th>\n",
       "      <th>LON</th>\n",
       "      <th>Depth</th>\n",
       "      <th>Year</th>\n",
       "      <th>wtcpue</th>\n",
       "    </tr>\n",
       "  </thead>\n",
       "  <tbody>\n",
       "    <tr>\n",
       "      <th>0</th>\n",
       "      <td>021-198403-001</td>\n",
       "      <td>350</td>\n",
       "      <td>55.98767</td>\n",
       "      <td>-134.59517</td>\n",
       "      <td>346</td>\n",
       "      <td>1984</td>\n",
       "      <td>0.0000</td>\n",
       "    </tr>\n",
       "    <tr>\n",
       "      <th>1</th>\n",
       "      <td>021-198403-002</td>\n",
       "      <td>251</td>\n",
       "      <td>55.63200</td>\n",
       "      <td>-134.22900</td>\n",
       "      <td>225</td>\n",
       "      <td>1984</td>\n",
       "      <td>4.7482</td>\n",
       "    </tr>\n",
       "    <tr>\n",
       "      <th>2</th>\n",
       "      <td>021-198403-003</td>\n",
       "      <td>151</td>\n",
       "      <td>55.21450</td>\n",
       "      <td>-133.88733</td>\n",
       "      <td>117</td>\n",
       "      <td>1984</td>\n",
       "      <td>1.0413</td>\n",
       "    </tr>\n",
       "    <tr>\n",
       "      <th>3</th>\n",
       "      <td>021-198403-006</td>\n",
       "      <td>151</td>\n",
       "      <td>55.13300</td>\n",
       "      <td>-133.87100</td>\n",
       "      <td>141</td>\n",
       "      <td>1984</td>\n",
       "      <td>1.3450</td>\n",
       "    </tr>\n",
       "    <tr>\n",
       "      <th>4</th>\n",
       "      <td>021-198403-007</td>\n",
       "      <td>151</td>\n",
       "      <td>55.12550</td>\n",
       "      <td>-134.00167</td>\n",
       "      <td>170</td>\n",
       "      <td>1984</td>\n",
       "      <td>0.2030</td>\n",
       "    </tr>\n",
       "  </tbody>\n",
       "</table>\n",
       "</div>"
      ],
      "text/plain": [
       "           HaulID  Stratum       LAT        LON  Depth  Year  wtcpue\n",
       "0  021-198403-001      350  55.98767 -134.59517    346  1984  0.0000\n",
       "1  021-198403-002      251  55.63200 -134.22900    225  1984  4.7482\n",
       "2  021-198403-003      151  55.21450 -133.88733    117  1984  1.0413\n",
       "3  021-198403-006      151  55.13300 -133.87100    141  1984  1.3450\n",
       "4  021-198403-007      151  55.12550 -134.00167    170  1984  0.2030"
      ]
     },
     "execution_count": 3,
     "metadata": {},
     "output_type": "execute_result"
    }
   ],
   "source": [
    "wp_gulf_alaska = pd.read_csv(\"wp_gulf_alaska.csv\")\n",
    "wp_gulf_alaska.head()"
   ]
  },
  {
   "cell_type": "markdown",
   "id": "878dc3cb-c06d-4393-994a-7091e7fc5dc2",
   "metadata": {},
   "source": [
    "Columns:\n",
    "- HaulID / Stratum: characterizes the survey expedition and catch throw.\n",
    "- LAT / LON: Latitude and Longitude of survey catch\n",
    "- Depth: Sea depth measured in meters below sea level.\n",
    "- Year: No other timestamp is provided. However, documentation specify that all surveys have been conducted during summer months.\n",
    "- wtcpue: survey catch measured in kg per ha.\n"
   ]
  },
  {
   "cell_type": "code",
   "execution_count": 4,
   "id": "5758c149",
   "metadata": {
    "scrolled": true
   },
   "outputs": [
    {
     "data": {
      "text/html": [
       "<div>\n",
       "<style scoped>\n",
       "    .dataframe tbody tr th:only-of-type {\n",
       "        vertical-align: middle;\n",
       "    }\n",
       "\n",
       "    .dataframe tbody tr th {\n",
       "        vertical-align: top;\n",
       "    }\n",
       "\n",
       "    .dataframe thead th {\n",
       "        text-align: right;\n",
       "    }\n",
       "</style>\n",
       "<table border=\"1\" class=\"dataframe\">\n",
       "  <thead>\n",
       "    <tr style=\"text-align: right;\">\n",
       "      <th></th>\n",
       "      <th>haul_id</th>\n",
       "      <th>stratum</th>\n",
       "      <th>lat</th>\n",
       "      <th>lon</th>\n",
       "      <th>depth</th>\n",
       "      <th>year</th>\n",
       "      <th>wtcpue</th>\n",
       "    </tr>\n",
       "  </thead>\n",
       "  <tbody>\n",
       "    <tr>\n",
       "      <th>0</th>\n",
       "      <td>021-198403-001</td>\n",
       "      <td>350</td>\n",
       "      <td>55.98767</td>\n",
       "      <td>-134.59517</td>\n",
       "      <td>346</td>\n",
       "      <td>1984</td>\n",
       "      <td>0.0000</td>\n",
       "    </tr>\n",
       "    <tr>\n",
       "      <th>1</th>\n",
       "      <td>021-198403-002</td>\n",
       "      <td>251</td>\n",
       "      <td>55.63200</td>\n",
       "      <td>-134.22900</td>\n",
       "      <td>225</td>\n",
       "      <td>1984</td>\n",
       "      <td>4.7482</td>\n",
       "    </tr>\n",
       "    <tr>\n",
       "      <th>2</th>\n",
       "      <td>021-198403-003</td>\n",
       "      <td>151</td>\n",
       "      <td>55.21450</td>\n",
       "      <td>-133.88733</td>\n",
       "      <td>117</td>\n",
       "      <td>1984</td>\n",
       "      <td>1.0413</td>\n",
       "    </tr>\n",
       "    <tr>\n",
       "      <th>3</th>\n",
       "      <td>021-198403-006</td>\n",
       "      <td>151</td>\n",
       "      <td>55.13300</td>\n",
       "      <td>-133.87100</td>\n",
       "      <td>141</td>\n",
       "      <td>1984</td>\n",
       "      <td>1.3450</td>\n",
       "    </tr>\n",
       "    <tr>\n",
       "      <th>4</th>\n",
       "      <td>021-198403-007</td>\n",
       "      <td>151</td>\n",
       "      <td>55.12550</td>\n",
       "      <td>-134.00167</td>\n",
       "      <td>170</td>\n",
       "      <td>1984</td>\n",
       "      <td>0.2030</td>\n",
       "    </tr>\n",
       "  </tbody>\n",
       "</table>\n",
       "</div>"
      ],
      "text/plain": [
       "          haul_id  stratum       lat        lon  depth  year  wtcpue\n",
       "0  021-198403-001      350  55.98767 -134.59517    346  1984  0.0000\n",
       "1  021-198403-002      251  55.63200 -134.22900    225  1984  4.7482\n",
       "2  021-198403-003      151  55.21450 -133.88733    117  1984  1.0413\n",
       "3  021-198403-006      151  55.13300 -133.87100    141  1984  1.3450\n",
       "4  021-198403-007      151  55.12550 -134.00167    170  1984  0.2030"
      ]
     },
     "execution_count": 4,
     "metadata": {},
     "output_type": "execute_result"
    }
   ],
   "source": [
    "wp_gulf_alaska = wp_gulf_alaska.rename(columns={\"HaulID\": \"haul_id\", \"Stratum\": \"stratum\", \"LAT\": \"lat\", \"LON\": \"lon\", \"Depth\":'depth', \"Year\": \"year\"})\n",
    "wp_gulf_alaska['year'] = wp_gulf_alaska['year'].astype('int64')\n",
    "wp_gulf_alaska.head()"
   ]
  },
  {
   "cell_type": "markdown",
   "id": "4fed668c-4bb8-460c-aabc-70db0d143aaf",
   "metadata": {},
   "source": [
    "#### 1.2 Oceanographic data"
   ]
  },
  {
   "cell_type": "markdown",
   "id": "9b373840-3f2c-4f16-b967-5d8e62689b48",
   "metadata": {},
   "source": [
    "We web-scrape temperature and salinity geospatial data from HyCOM (Hybrid Coordinate Ocean Model) using their NCSS request URL. Since there is too much data, we have decided to only get a sample from the first day of each summer month (July 1st, August 1st and September 1st). Of course, including more points should improve our model. Then again, we don't have a timestamp associated with each survey, just the year.\n",
    "\n",
    "We will extract data from this geographic region:\n",
    "- North limit: 60.32\n",
    "- South limit: 52.41\n",
    "- West limit: -170\n",
    "- East limit: -132.5\n",
    "\n",
    "Unfortunately, we do not have data prior to 1995. "
   ]
  },
  {
   "cell_type": "code",
   "execution_count": 5,
   "id": "faa337d2-d4c5-4556-b4ef-72a46d617d03",
   "metadata": {},
   "outputs": [],
   "source": [
    "# Define the list of years and months\n",
    "year_list = [1996, 1999, 2003, 2005, 2007, 2009, 2011, 2013, 2015, 2017, 2019]\n",
    "month_list = [7, 8, 9]\n",
    "this_folder = os.getcwd()\n",
    "data_folder = this_folder + '\\\\temp' # '\\\\temp' on a windows machine\n",
    "\n",
    "if not os.path.exists('ocean_data.csv'):\n",
    "  # create data folder if it doesn't exists \n",
    "  if not os.path.exists(data_folder):\n",
    "    os.mkdir(data_folder)\n",
    "  \n",
    "  # Create an empty DataFrame to store the results\n",
    "  df_all = pd.DataFrame()\n",
    "\n",
    "  # Loop over each desired year and month, and add a progress bar\n",
    "  for year in year_list:\n",
    "      for month in tqdm(month_list, desc=f'{year}'):\n",
    "          # Define the date string\n",
    "          date_str = f'{year}-{month:02d}-01T09:00:00Z'\n",
    "          # Define the URL with the fixed parameters\n",
    "          if year <=2015:\n",
    "              url = \"https://ncss.hycom.org/thredds/ncss/GLBv0.08/expt_53.X/data/\"+str(year)+\"?var=salinity_bottom&var=water_temp_bottom&north=60.32&west=-170&east=-132.5&south=52.41&horizStride=1&vertCoord=&accept=netcdf4\"\n",
    "          elif year == 2017:\n",
    "              url = \"https://ncss.hycom.org/thredds/ncss/GLBv0.08/expt_57.7?var=salinity_bottom&var=water_temp_bottom&north=60.32&west=-170&east=-132.5&south=52.41&horizStride=1&vertCoord=&accept=netcdf4\"\n",
    "          else:\n",
    "              url = \"https://ncss.hycom.org/thredds/ncss/GLBv0.08/expt_93.0/ts3z?var=salinity_bottom&var=water_temp_bottom&north=60.32&west=-170&east=-132.5&south=52.41&horizStride=1&vertCoord=&accept=netcdf4\"\n",
    "          \n",
    "          my_file = os.path.join(this_folder, 'temp', f'example-{date_str[:10]}.nc4')\n",
    "          # Add the date parameter to the URL\n",
    "          url_day = f'{url}&time={date_str}'\n",
    "          # Download the data and save it to a file\n",
    "          downloaded_obj = requests.get(url_day)\n",
    "          with open(my_file, \"wb\") as file:\n",
    "              file.write(downloaded_obj.content)\n",
    "              del downloaded_obj\n",
    "          # Open the NetCDF file and convert it to a pandas DataFrame\n",
    "          ds = xr.open_dataset(my_file)\n",
    "          df_temp = ds.to_dataframe().reset_index()\n",
    "          # Append the DataFrame to the overall DataFrame\n",
    "          df_all = pd.concat([df_all, df_temp], ignore_index=True)\n",
    "\n",
    "  df_all.to_csv('ocean_data.csv', index=False)"
   ]
  },
  {
   "cell_type": "code",
   "execution_count": 6,
   "id": "5f34efdf",
   "metadata": {},
   "outputs": [
    {
     "data": {
      "text/html": [
       "<div>\n",
       "<style scoped>\n",
       "    .dataframe tbody tr th:only-of-type {\n",
       "        vertical-align: middle;\n",
       "    }\n",
       "\n",
       "    .dataframe tbody tr th {\n",
       "        vertical-align: top;\n",
       "    }\n",
       "\n",
       "    .dataframe thead th {\n",
       "        text-align: right;\n",
       "    }\n",
       "</style>\n",
       "<table border=\"1\" class=\"dataframe\">\n",
       "  <thead>\n",
       "    <tr style=\"text-align: right;\">\n",
       "      <th></th>\n",
       "      <th>time</th>\n",
       "      <th>lat</th>\n",
       "      <th>lon</th>\n",
       "      <th>salinity_bottom</th>\n",
       "      <th>water_temp_bottom</th>\n",
       "    </tr>\n",
       "  </thead>\n",
       "  <tbody>\n",
       "    <tr>\n",
       "      <th>0</th>\n",
       "      <td>1996-07-01 09:00:00</td>\n",
       "      <td>52.400002</td>\n",
       "      <td>-170.000000</td>\n",
       "      <td>34.223000</td>\n",
       "      <td>3.535999</td>\n",
       "    </tr>\n",
       "    <tr>\n",
       "      <th>1</th>\n",
       "      <td>1996-07-01 09:00:00</td>\n",
       "      <td>52.400002</td>\n",
       "      <td>-169.919983</td>\n",
       "      <td>34.287003</td>\n",
       "      <td>3.223999</td>\n",
       "    </tr>\n",
       "    <tr>\n",
       "      <th>2</th>\n",
       "      <td>1996-07-01 09:00:00</td>\n",
       "      <td>52.400002</td>\n",
       "      <td>-169.839966</td>\n",
       "      <td>34.330000</td>\n",
       "      <td>3.050999</td>\n",
       "    </tr>\n",
       "    <tr>\n",
       "      <th>3</th>\n",
       "      <td>1996-07-01 09:00:00</td>\n",
       "      <td>52.400002</td>\n",
       "      <td>-169.760010</td>\n",
       "      <td>34.323000</td>\n",
       "      <td>3.139000</td>\n",
       "    </tr>\n",
       "    <tr>\n",
       "      <th>4</th>\n",
       "      <td>1996-07-01 09:00:00</td>\n",
       "      <td>52.400002</td>\n",
       "      <td>-169.679993</td>\n",
       "      <td>34.324000</td>\n",
       "      <td>3.146000</td>\n",
       "    </tr>\n",
       "  </tbody>\n",
       "</table>\n",
       "</div>"
      ],
      "text/plain": [
       "                  time        lat         lon  salinity_bottom  \\\n",
       "0  1996-07-01 09:00:00  52.400002 -170.000000        34.223000   \n",
       "1  1996-07-01 09:00:00  52.400002 -169.919983        34.287003   \n",
       "2  1996-07-01 09:00:00  52.400002 -169.839966        34.330000   \n",
       "3  1996-07-01 09:00:00  52.400002 -169.760010        34.323000   \n",
       "4  1996-07-01 09:00:00  52.400002 -169.679993        34.324000   \n",
       "\n",
       "   water_temp_bottom  \n",
       "0           3.535999  \n",
       "1           3.223999  \n",
       "2           3.050999  \n",
       "3           3.139000  \n",
       "4           3.146000  "
      ]
     },
     "execution_count": 6,
     "metadata": {},
     "output_type": "execute_result"
    }
   ],
   "source": [
    "ocean_data_df = pd.read_csv('ocean_data.csv')\n",
    "ocean_data_df.head()"
   ]
  },
  {
   "cell_type": "code",
   "execution_count": 7,
   "id": "161629c5",
   "metadata": {},
   "outputs": [
    {
     "data": {
      "text/html": [
       "<div>\n",
       "<style scoped>\n",
       "    .dataframe tbody tr th:only-of-type {\n",
       "        vertical-align: middle;\n",
       "    }\n",
       "\n",
       "    .dataframe tbody tr th {\n",
       "        vertical-align: top;\n",
       "    }\n",
       "\n",
       "    .dataframe thead th {\n",
       "        text-align: right;\n",
       "    }\n",
       "</style>\n",
       "<table border=\"1\" class=\"dataframe\">\n",
       "  <thead>\n",
       "    <tr style=\"text-align: right;\">\n",
       "      <th></th>\n",
       "      <th>time</th>\n",
       "      <th>lat</th>\n",
       "      <th>lon</th>\n",
       "      <th>salinity_bottom</th>\n",
       "      <th>water_temp_bottom</th>\n",
       "      <th>year</th>\n",
       "    </tr>\n",
       "  </thead>\n",
       "  <tbody>\n",
       "    <tr>\n",
       "      <th>0</th>\n",
       "      <td>1996-07-01 09:00:00</td>\n",
       "      <td>52.400002</td>\n",
       "      <td>-170.000000</td>\n",
       "      <td>34.223000</td>\n",
       "      <td>3.535999</td>\n",
       "      <td>1996</td>\n",
       "    </tr>\n",
       "    <tr>\n",
       "      <th>1</th>\n",
       "      <td>1996-07-01 09:00:00</td>\n",
       "      <td>52.400002</td>\n",
       "      <td>-169.919983</td>\n",
       "      <td>34.287003</td>\n",
       "      <td>3.223999</td>\n",
       "      <td>1996</td>\n",
       "    </tr>\n",
       "    <tr>\n",
       "      <th>2</th>\n",
       "      <td>1996-07-01 09:00:00</td>\n",
       "      <td>52.400002</td>\n",
       "      <td>-169.839966</td>\n",
       "      <td>34.330000</td>\n",
       "      <td>3.050999</td>\n",
       "      <td>1996</td>\n",
       "    </tr>\n",
       "    <tr>\n",
       "      <th>3</th>\n",
       "      <td>1996-07-01 09:00:00</td>\n",
       "      <td>52.400002</td>\n",
       "      <td>-169.760010</td>\n",
       "      <td>34.323000</td>\n",
       "      <td>3.139000</td>\n",
       "      <td>1996</td>\n",
       "    </tr>\n",
       "    <tr>\n",
       "      <th>4</th>\n",
       "      <td>1996-07-01 09:00:00</td>\n",
       "      <td>52.400002</td>\n",
       "      <td>-169.679993</td>\n",
       "      <td>34.324000</td>\n",
       "      <td>3.146000</td>\n",
       "      <td>1996</td>\n",
       "    </tr>\n",
       "  </tbody>\n",
       "</table>\n",
       "</div>"
      ],
      "text/plain": [
       "                 time        lat         lon  salinity_bottom  \\\n",
       "0 1996-07-01 09:00:00  52.400002 -170.000000        34.223000   \n",
       "1 1996-07-01 09:00:00  52.400002 -169.919983        34.287003   \n",
       "2 1996-07-01 09:00:00  52.400002 -169.839966        34.330000   \n",
       "3 1996-07-01 09:00:00  52.400002 -169.760010        34.323000   \n",
       "4 1996-07-01 09:00:00  52.400002 -169.679993        34.324000   \n",
       "\n",
       "   water_temp_bottom  year  \n",
       "0           3.535999  1996  \n",
       "1           3.223999  1996  \n",
       "2           3.050999  1996  \n",
       "3           3.139000  1996  \n",
       "4           3.146000  1996  "
      ]
     },
     "execution_count": 7,
     "metadata": {},
     "output_type": "execute_result"
    }
   ],
   "source": [
    "ocean_data_df['time'] = pd.to_datetime(ocean_data_df['time'])\n",
    "ocean_data_df['year'] = ocean_data_df['time'].dt.strftime('%Y').astype(int)\n",
    "ocean_data_df['lon'] = np.where(ocean_data_df['year'] == 2019, -ocean_data_df['lon'], ocean_data_df['lon'])\n",
    "ocean_data_df.head()"
   ]
  },
  {
   "cell_type": "code",
   "execution_count": 8,
   "id": "c2e2fa78",
   "metadata": {},
   "outputs": [
    {
     "name": "stdout",
     "output_type": "stream",
     "text": [
      "52.400001525878906\n",
      "60.31999969482422\n",
      "-227.52001953125\n",
      "-132.47998046875\n"
     ]
    }
   ],
   "source": [
    "# min_lat = wp_gulf_alaska['lat'].min()\n",
    "# max_lat = wp_gulf_alaska['lat'].max()\n",
    "# min_lon = wp_gulf_alaska['lon'].min()\n",
    "# max_lon = wp_gulf_alaska['lon'].max()\n",
    "# print(min_lat)\n",
    "# print(max_lat)\n",
    "# print(min_lon)\n",
    "# print(max_lon)\n",
    "\n",
    "min_lat = ocean_data_df['lat'].min()\n",
    "max_lat = ocean_data_df['lat'].max()\n",
    "min_lon = ocean_data_df['lon'].min()\n",
    "max_lon = ocean_data_df['lon'].max()\n",
    "print(min_lat)\n",
    "print(max_lat)\n",
    "print(min_lon)\n",
    "print(max_lon)"
   ]
  },
  {
   "cell_type": "code",
   "execution_count": 9,
   "id": "89286336",
   "metadata": {},
   "outputs": [],
   "source": [
    "offset = 2\n",
    "small_ocean_data_df = ocean_data_df[ocean_data_df['lat'] > (min_lat - offset)]\n",
    "small_ocean_data_df = small_ocean_data_df[small_ocean_data_df['lat'] < (max_lat + offset)]\n",
    "\n",
    "small_ocean_data_df = small_ocean_data_df[small_ocean_data_df['lon'] > (min_lon - offset)]\n",
    "small_ocean_data_df = small_ocean_data_df[small_ocean_data_df['lon'] < (max_lon + offset)]\n",
    "small_ocean_data_df = small_ocean_data_df.dropna()"
   ]
  },
  {
   "cell_type": "code",
   "execution_count": 10,
   "id": "d700faf1",
   "metadata": {},
   "outputs": [],
   "source": [
    "# define the precision of the rounding\n",
    "precision = 0\n",
    "# round the 'lat' and 'lon' columns\n",
    "small_ocean_data_df['lat'] = small_ocean_data_df['lat'].round(precision)\n",
    "small_ocean_data_df['lon'] = small_ocean_data_df['lon'].round(precision)\n",
    "# group the dataframe by the rounded 'lat' and 'log' columns, and calculate the mean of the other columns\n",
    "grouped_ocean_data = small_ocean_data_df.groupby(['lat', 'lon', 'year'], as_index=False).mean()"
   ]
  },
  {
   "cell_type": "markdown",
   "id": "7d0ff855-fa35-4628-bf34-791629138143",
   "metadata": {},
   "source": [
    "#### 1.3 Merging the two data sets"
   ]
  },
  {
   "cell_type": "code",
   "execution_count": 11,
   "id": "deef934e",
   "metadata": {
    "scrolled": false
   },
   "outputs": [
    {
     "data": {
      "text/html": [
       "<div>\n",
       "<style scoped>\n",
       "    .dataframe tbody tr th:only-of-type {\n",
       "        vertical-align: middle;\n",
       "    }\n",
       "\n",
       "    .dataframe tbody tr th {\n",
       "        vertical-align: top;\n",
       "    }\n",
       "\n",
       "    .dataframe thead th {\n",
       "        text-align: right;\n",
       "    }\n",
       "</style>\n",
       "<table border=\"1\" class=\"dataframe\">\n",
       "  <thead>\n",
       "    <tr style=\"text-align: right;\">\n",
       "      <th></th>\n",
       "      <th>lat</th>\n",
       "      <th>lon</th>\n",
       "      <th>year</th>\n",
       "      <th>salinity_bottom</th>\n",
       "      <th>water_temp_bottom</th>\n",
       "      <th>ocean_data_id</th>\n",
       "    </tr>\n",
       "  </thead>\n",
       "  <tbody>\n",
       "    <tr>\n",
       "      <th>0</th>\n",
       "      <td>52.0</td>\n",
       "      <td>-228.0</td>\n",
       "      <td>2019</td>\n",
       "      <td>34.652000</td>\n",
       "      <td>1.626554</td>\n",
       "      <td>0</td>\n",
       "    </tr>\n",
       "    <tr>\n",
       "      <th>1</th>\n",
       "      <td>52.0</td>\n",
       "      <td>-227.0</td>\n",
       "      <td>2019</td>\n",
       "      <td>34.652000</td>\n",
       "      <td>1.621851</td>\n",
       "      <td>1</td>\n",
       "    </tr>\n",
       "    <tr>\n",
       "      <th>2</th>\n",
       "      <td>52.0</td>\n",
       "      <td>-226.0</td>\n",
       "      <td>2019</td>\n",
       "      <td>34.652000</td>\n",
       "      <td>1.621247</td>\n",
       "      <td>2</td>\n",
       "    </tr>\n",
       "    <tr>\n",
       "      <th>3</th>\n",
       "      <td>52.0</td>\n",
       "      <td>-225.0</td>\n",
       "      <td>2019</td>\n",
       "      <td>34.680556</td>\n",
       "      <td>1.470416</td>\n",
       "      <td>3</td>\n",
       "    </tr>\n",
       "    <tr>\n",
       "      <th>4</th>\n",
       "      <td>52.0</td>\n",
       "      <td>-224.0</td>\n",
       "      <td>2019</td>\n",
       "      <td>34.680197</td>\n",
       "      <td>1.469615</td>\n",
       "      <td>4</td>\n",
       "    </tr>\n",
       "  </tbody>\n",
       "</table>\n",
       "</div>"
      ],
      "text/plain": [
       "    lat    lon  year  salinity_bottom  water_temp_bottom  ocean_data_id\n",
       "0  52.0 -228.0  2019        34.652000           1.626554              0\n",
       "1  52.0 -227.0  2019        34.652000           1.621851              1\n",
       "2  52.0 -226.0  2019        34.652000           1.621247              2\n",
       "3  52.0 -225.0  2019        34.680556           1.470416              3\n",
       "4  52.0 -224.0  2019        34.680197           1.469615              4"
      ]
     },
     "execution_count": 11,
     "metadata": {},
     "output_type": "execute_result"
    }
   ],
   "source": [
    "grouped_ocean_data['ocean_data_id'] = grouped_ocean_data.index \n",
    "grouped_ocean_data.head()"
   ]
  },
  {
   "cell_type": "markdown",
   "id": "83f807fc",
   "metadata": {},
   "source": [
    "Losing 2019 here"
   ]
  },
  {
   "cell_type": "code",
   "execution_count": 12,
   "id": "c19e980d",
   "metadata": {},
   "outputs": [
    {
     "data": {
      "text/html": [
       "<div>\n",
       "<style scoped>\n",
       "    .dataframe tbody tr th:only-of-type {\n",
       "        vertical-align: middle;\n",
       "    }\n",
       "\n",
       "    .dataframe tbody tr th {\n",
       "        vertical-align: top;\n",
       "    }\n",
       "\n",
       "    .dataframe thead th {\n",
       "        text-align: right;\n",
       "    }\n",
       "</style>\n",
       "<table border=\"1\" class=\"dataframe\">\n",
       "  <thead>\n",
       "    <tr style=\"text-align: right;\">\n",
       "      <th></th>\n",
       "      <th>haul_id</th>\n",
       "      <th>stratum</th>\n",
       "      <th>lat</th>\n",
       "      <th>lon</th>\n",
       "      <th>depth</th>\n",
       "      <th>year</th>\n",
       "      <th>wtcpue</th>\n",
       "    </tr>\n",
       "  </thead>\n",
       "  <tbody>\n",
       "    <tr>\n",
       "      <th>3104</th>\n",
       "      <td>023-199601-003</td>\n",
       "      <td>210</td>\n",
       "      <td>52.59615</td>\n",
       "      <td>-169.4421</td>\n",
       "      <td>235</td>\n",
       "      <td>1996</td>\n",
       "      <td>9.0793</td>\n",
       "    </tr>\n",
       "    <tr>\n",
       "      <th>3105</th>\n",
       "      <td>023-199601-004</td>\n",
       "      <td>111</td>\n",
       "      <td>52.78445</td>\n",
       "      <td>-168.7133</td>\n",
       "      <td>109</td>\n",
       "      <td>1996</td>\n",
       "      <td>0.3296</td>\n",
       "    </tr>\n",
       "    <tr>\n",
       "      <th>3106</th>\n",
       "      <td>023-199601-005</td>\n",
       "      <td>10</td>\n",
       "      <td>52.85188</td>\n",
       "      <td>-168.6160</td>\n",
       "      <td>95</td>\n",
       "      <td>1996</td>\n",
       "      <td>646.7679</td>\n",
       "    </tr>\n",
       "    <tr>\n",
       "      <th>3107</th>\n",
       "      <td>023-199601-006</td>\n",
       "      <td>10</td>\n",
       "      <td>52.98299</td>\n",
       "      <td>-168.2722</td>\n",
       "      <td>106</td>\n",
       "      <td>1996</td>\n",
       "      <td>256.1357</td>\n",
       "    </tr>\n",
       "    <tr>\n",
       "      <th>3108</th>\n",
       "      <td>023-199601-007</td>\n",
       "      <td>210</td>\n",
       "      <td>52.96844</td>\n",
       "      <td>-167.5347</td>\n",
       "      <td>227</td>\n",
       "      <td>1996</td>\n",
       "      <td>3.0989</td>\n",
       "    </tr>\n",
       "  </tbody>\n",
       "</table>\n",
       "</div>"
      ],
      "text/plain": [
       "             haul_id  stratum       lat       lon  depth  year    wtcpue\n",
       "3104  023-199601-003      210  52.59615 -169.4421    235  1996    9.0793\n",
       "3105  023-199601-004      111  52.78445 -168.7133    109  1996    0.3296\n",
       "3106  023-199601-005       10  52.85188 -168.6160     95  1996  646.7679\n",
       "3107  023-199601-006       10  52.98299 -168.2722    106  1996  256.1357\n",
       "3108  023-199601-007      210  52.96844 -167.5347    227  1996    3.0989"
      ]
     },
     "execution_count": 12,
     "metadata": {},
     "output_type": "execute_result"
    }
   ],
   "source": [
    "sub_wp_gulf_alaska = wp_gulf_alaska[wp_gulf_alaska['year'].isin(grouped_ocean_data.year.unique())]\n",
    "sub_wp_gulf_alaska.head()"
   ]
  },
  {
   "cell_type": "code",
   "execution_count": 18,
   "id": "aa3dcbe4",
   "metadata": {
    "scrolled": false
   },
   "outputs": [
    {
     "name": "stderr",
     "output_type": "stream",
     "text": [
      "C:\\Users\\WILLTI~1\\AppData\\Local\\Temp/ipykernel_17740/368438034.py:27: SettingWithCopyWarning: \n",
      "A value is trying to be set on a copy of a slice from a DataFrame.\n",
      "Try using .loc[row_indexer,col_indexer] = value instead\n",
      "\n",
      "See the caveats in the documentation: https://pandas.pydata.org/pandas-docs/stable/user_guide/indexing.html#returning-a-view-versus-a-copy\n",
      "  sub_wp_gulf_alaska['ocean_data_id'] = sub_wp_gulf_alaska.apply(\n"
     ]
    },
    {
     "data": {
      "text/html": [
       "<div>\n",
       "<style scoped>\n",
       "    .dataframe tbody tr th:only-of-type {\n",
       "        vertical-align: middle;\n",
       "    }\n",
       "\n",
       "    .dataframe tbody tr th {\n",
       "        vertical-align: top;\n",
       "    }\n",
       "\n",
       "    .dataframe thead th {\n",
       "        text-align: right;\n",
       "    }\n",
       "</style>\n",
       "<table border=\"1\" class=\"dataframe\">\n",
       "  <thead>\n",
       "    <tr style=\"text-align: right;\">\n",
       "      <th></th>\n",
       "      <th>haul_id</th>\n",
       "      <th>stratum</th>\n",
       "      <th>lat_wp</th>\n",
       "      <th>lon_wp</th>\n",
       "      <th>depth</th>\n",
       "      <th>year_wp</th>\n",
       "      <th>wtcpue</th>\n",
       "      <th>ocean_data_id</th>\n",
       "      <th>lat_ocean</th>\n",
       "      <th>lon_ocean</th>\n",
       "      <th>year_ocean</th>\n",
       "      <th>salinity_bottom</th>\n",
       "      <th>water_temp_bottom</th>\n",
       "    </tr>\n",
       "  </thead>\n",
       "  <tbody>\n",
       "    <tr>\n",
       "      <th>0</th>\n",
       "      <td>023-199601-003</td>\n",
       "      <td>210</td>\n",
       "      <td>52.59615</td>\n",
       "      <td>-169.4421</td>\n",
       "      <td>235</td>\n",
       "      <td>1996</td>\n",
       "      <td>9.0793</td>\n",
       "      <td>478</td>\n",
       "      <td>53.0</td>\n",
       "      <td>-169.0</td>\n",
       "      <td>1996</td>\n",
       "      <td>33.791651</td>\n",
       "      <td>3.926612</td>\n",
       "    </tr>\n",
       "    <tr>\n",
       "      <th>1</th>\n",
       "      <td>023-199601-004</td>\n",
       "      <td>111</td>\n",
       "      <td>52.78445</td>\n",
       "      <td>-168.7133</td>\n",
       "      <td>109</td>\n",
       "      <td>1996</td>\n",
       "      <td>0.3296</td>\n",
       "      <td>478</td>\n",
       "      <td>53.0</td>\n",
       "      <td>-169.0</td>\n",
       "      <td>1996</td>\n",
       "      <td>33.791651</td>\n",
       "      <td>3.926612</td>\n",
       "    </tr>\n",
       "    <tr>\n",
       "      <th>2</th>\n",
       "      <td>023-199601-005</td>\n",
       "      <td>10</td>\n",
       "      <td>52.85188</td>\n",
       "      <td>-168.6160</td>\n",
       "      <td>95</td>\n",
       "      <td>1996</td>\n",
       "      <td>646.7679</td>\n",
       "      <td>478</td>\n",
       "      <td>53.0</td>\n",
       "      <td>-169.0</td>\n",
       "      <td>1996</td>\n",
       "      <td>33.791651</td>\n",
       "      <td>3.926612</td>\n",
       "    </tr>\n",
       "    <tr>\n",
       "      <th>3</th>\n",
       "      <td>023-199601-006</td>\n",
       "      <td>10</td>\n",
       "      <td>52.98299</td>\n",
       "      <td>-168.2722</td>\n",
       "      <td>106</td>\n",
       "      <td>1996</td>\n",
       "      <td>256.1357</td>\n",
       "      <td>488</td>\n",
       "      <td>53.0</td>\n",
       "      <td>-168.0</td>\n",
       "      <td>1996</td>\n",
       "      <td>33.666818</td>\n",
       "      <td>3.898750</td>\n",
       "    </tr>\n",
       "    <tr>\n",
       "      <th>4</th>\n",
       "      <td>023-199601-007</td>\n",
       "      <td>210</td>\n",
       "      <td>52.96844</td>\n",
       "      <td>-167.5347</td>\n",
       "      <td>227</td>\n",
       "      <td>1996</td>\n",
       "      <td>3.0989</td>\n",
       "      <td>488</td>\n",
       "      <td>53.0</td>\n",
       "      <td>-168.0</td>\n",
       "      <td>1996</td>\n",
       "      <td>33.666818</td>\n",
       "      <td>3.898750</td>\n",
       "    </tr>\n",
       "  </tbody>\n",
       "</table>\n",
       "</div>"
      ],
      "text/plain": [
       "          haul_id  stratum    lat_wp    lon_wp  depth  year_wp    wtcpue  \\\n",
       "0  023-199601-003      210  52.59615 -169.4421    235     1996    9.0793   \n",
       "1  023-199601-004      111  52.78445 -168.7133    109     1996    0.3296   \n",
       "2  023-199601-005       10  52.85188 -168.6160     95     1996  646.7679   \n",
       "3  023-199601-006       10  52.98299 -168.2722    106     1996  256.1357   \n",
       "4  023-199601-007      210  52.96844 -167.5347    227     1996    3.0989   \n",
       "\n",
       "   ocean_data_id  lat_ocean  lon_ocean  year_ocean  salinity_bottom  \\\n",
       "0            478       53.0     -169.0        1996        33.791651   \n",
       "1            478       53.0     -169.0        1996        33.791651   \n",
       "2            478       53.0     -169.0        1996        33.791651   \n",
       "3            488       53.0     -168.0        1996        33.666818   \n",
       "4            488       53.0     -168.0        1996        33.666818   \n",
       "\n",
       "   water_temp_bottom  \n",
       "0           3.926612  \n",
       "1           3.926612  \n",
       "2           3.926612  \n",
       "3           3.898750  \n",
       "4           3.898750  "
      ]
     },
     "execution_count": 18,
     "metadata": {},
     "output_type": "execute_result"
    }
   ],
   "source": [
    "def dist(lat1, lon1, lat2, lon2):\n",
    "    \"\"\"\n",
    "    https://medium.com/analytics-vidhya/finding-nearest-pair-of-latitude-and-longitude-match-using-python-ce50d62af546\n",
    "    \"\"\"\n",
    "    # convert decimal degrees to radians \n",
    "    lat1, lon1, lat2, lon2 = map(radians, [lat1, lon1, lat2, lon2])\n",
    "    # haversine formula \n",
    "    dlon = lon2 - lon1 \n",
    "    dlat = lat2 - lat1 \n",
    "    a = sin(dlat/2)**2 + cos(lat1) * cos(lat2) * sin(dlon/2)**2\n",
    "    c = 2 * asin(sqrt(a)) \n",
    "    # Radius of earth in kilometers is 6371\n",
    "    km = 6371 * c\n",
    "    return km\n",
    "\n",
    "def find_nearest(lat, lon, year):\n",
    "  year_ocean_data_df = grouped_ocean_data[grouped_ocean_data['year'] == year]\n",
    "  \n",
    "  # mini filtering on lat lng\n",
    "  # year_ocean_data_df = year_ocean_data_df[(abs(year_ocean_data_df[\"lat\"] - lat) < 10) & (abs(year_ocean_data_df[\"lon\"] - lon) < 10)]\n",
    "  \n",
    "  distances = year_ocean_data_df.apply(\n",
    "      lambda row: dist(lat, lon, row['lat'], row['lon']), \n",
    "      axis=1)\n",
    "  return year_ocean_data_df.loc[distances.idxmin(), 'ocean_data_id']\n",
    "\n",
    "sub_wp_gulf_alaska['ocean_data_id'] = sub_wp_gulf_alaska.apply(\n",
    "    lambda row: find_nearest(row['lat'], row['lon'], row['year']), \n",
    "    axis=1)\n",
    "\n",
    "merge_df = pd.merge(sub_wp_gulf_alaska, grouped_ocean_data, on='ocean_data_id', how='left', suffixes=('_wp', '_ocean'))\n",
    "\n",
    "merge_df.head()"
   ]
  },
  {
   "cell_type": "markdown",
   "id": "4224f977",
   "metadata": {},
   "source": [
    "# Boosting"
   ]
  },
  {
   "cell_type": "markdown",
   "id": "a3404836",
   "metadata": {},
   "source": [
    "Using Gradient Boosting we achieve a train MSE of () and a test MSE of ()"
   ]
  },
  {
   "cell_type": "code",
   "execution_count": 19,
   "id": "8cc53159",
   "metadata": {
    "scrolled": false
   },
   "outputs": [
    {
     "data": {
      "text/plain": [
       "3392.1560448522605"
      ]
     },
     "execution_count": 19,
     "metadata": {},
     "output_type": "execute_result"
    }
   ],
   "source": [
    "y = merge_df[['year_wp', 'wtcpue']]\n",
    "X = merge_df[['year_wp','lat_wp', 'lon_wp', 'depth','salinity_bottom','water_temp_bottom']]\n",
    "\n",
    "y_train = y[y['year_wp'] != 2019]['wtcpue']\n",
    "y_test = y[y['year_wp'] == 2019]['wtcpue']\n",
    "\n",
    "X_train = X[X['year_wp'] != 2019].drop('year_wp', axis=1)\n",
    "X_test = X[X['year_wp'] == 2019].drop('year_wp', axis=1)\n",
    "\n",
    "params = {\n",
    "    \"n_estimators\": [10, 100],\n",
    "    \"max_depth\":[3,5,8],\n",
    "    \"min_samples_split\": np.linspace(0.01 ,1, 10),\n",
    "    \"learning_rate\": np.linspace(0.01, 1, 10),\n",
    "    \"loss\": [\"squared_error\"], # default\n",
    "    \"criterion\" : [\"friedman_mse\"], # default\n",
    "}\n",
    "\n",
    "# grid search cross validate\n",
    "# default 5-fold CV\n",
    "mod = ensemble.GradientBoostingRegressor()\n",
    "reg = GridSearchCV(mod, params)\n",
    "reg.fit(X_train, y_train)\n",
    "\n",
    "# output best model\n",
    "df=pd.DataFrame.from_dict(reg.cv_results_)\n",
    "model = reg.best_estimator_\n",
    "\n",
    "# predict \n",
    "y_pred = model.predict(X_test)"
   ]
  },
  {
   "cell_type": "code",
   "execution_count": null,
   "id": "b7665538",
   "metadata": {},
   "outputs": [],
   "source": [
    "best_params = {'criterion': 'friedman_mse', \n",
    "             'learning_rate': 0.01, \n",
    "             'loss': 'squared_error', \n",
    "             'max_depth': 8, \n",
    "             'min_samples_split': 0.12, \n",
    "             'n_estimators': 100}"
   ]
  },
  {
   "cell_type": "markdown",
   "id": "343e32ab",
   "metadata": {},
   "source": [
    "### MSE"
   ]
  },
  {
   "cell_type": "code",
   "execution_count": 21,
   "id": "f4415809",
   "metadata": {},
   "outputs": [
    {
     "name": "stdout",
     "output_type": "stream",
     "text": [
      "MSE Train : 23411.911374009233\n",
      "MSE Test : 3392.1560448522605\n"
     ]
    }
   ],
   "source": [
    "y_train_pred = model.predict(X_train)\n",
    "\n",
    "mse_train = mean_squared_error(y_true = y_train,\n",
    "                               y_pred = y_train_pred)\n",
    "mse_test = mean_squared_error(y_true = y_test,\n",
    "                              y_pred = y_pred)\n",
    "print(f\"MSE Train : {mse_train}\")\n",
    "print(f\"MSE Test : {mse_test}\")"
   ]
  },
  {
   "cell_type": "markdown",
   "id": "6b4f6f17",
   "metadata": {},
   "source": [
    "## SHAP Plots\n",
    "https://medium.com/dataman-in-ai/explain-your-model-with-the-shap-values-bc36aac4de3d\n",
    "https://shap.readthedocs.io/en/latest/example_notebooks/overviews/An%20introduction%20to%20explainable%20AI%20with%20Shapley%20values.html"
   ]
  },
  {
   "cell_type": "code",
   "execution_count": 29,
   "id": "3ca9c8e6",
   "metadata": {},
   "outputs": [
    {
     "data": {
      "image/png": "[encoded data removed]",
      "text/plain": [
       "<Figure size 576x252 with 1 Axes>"
      ]
     },
     "metadata": {
      "needs_background": "light"
     },
     "output_type": "display_data"
    }
   ],
   "source": [
    "shap_values = shap.TreeExplainer(model).shap_values(X_train)\n",
    "rf_shap_values = shap.TreeExplainer(model).shap_values(X_test)\n",
    "shap.summary_plot(shap_values, X_train, plot_type=\"bar\")"
   ]
  },
  {
   "cell_type": "code",
   "execution_count": 30,
   "id": "5e840852",
   "metadata": {
    "scrolled": true
   },
   "outputs": [
    {
     "data": {
      "image/png": "[encoded data removed]",
      "text/plain": [
       "<Figure size 576x252 with 2 Axes>"
      ]
     },
     "metadata": {
      "needs_background": "light"
     },
     "output_type": "display_data"
    }
   ],
   "source": [
    "f = plt.figure()\n",
    "shap.summary_plot(rf_shap_values, X_test)"
   ]
  },
  {
   "cell_type": "code",
   "execution_count": 42,
   "id": "c71b4998",
   "metadata": {},
   "outputs": [
    {
     "name": "stderr",
     "output_type": "stream",
     "text": [
      " 97%|=================== | 7336/7580 [00:14<00:00]       "
     ]
    }
   ],
   "source": [
    "X = X.drop('year_wp', axis=1)\n",
    "X100 = shap.utils.sample(X, 100)\n",
    "explainer_boost = shap.Explainer(model, X100)\n",
    "shap_values_boost = explainer_boost(X)"
   ]
  },
  {
   "cell_type": "code",
   "execution_count": 43,
   "id": "ec3786d9",
   "metadata": {},
   "outputs": [
    {
     "data": {
      "image/png": "[encoded data removed]",
      "text/plain": [
       "<Figure size 432x288 with 4 Axes>"
      ]
     },
     "metadata": {
      "needs_background": "light"
     },
     "output_type": "display_data"
    }
   ],
   "source": [
    "sample_ind = 20\n",
    "fig,ax = shap.partial_dependence_plot(\n",
    "    \"lat_wp\", model.predict, X100, model_expected_value=True,\n",
    "    feature_expected_value=True, show=False, ice=False,\n",
    "    shap_values=shap_values_boost[sample_ind:sample_ind+1,:])"
   ]
  },
  {
   "cell_type": "code",
   "execution_count": 46,
   "id": "21593bd4",
   "metadata": {},
   "outputs": [
    {
     "data": {
      "image/png": "[encoded data removed]",
      "text/plain": [
       "<Figure size 432x360 with 2 Axes>"
      ]
     },
     "metadata": {
      "needs_background": "light"
     },
     "output_type": "display_data"
    }
   ],
   "source": [
    "shap.plots.scatter(shap_values_boost[:,\"lat_wp\"])"
   ]
  },
  {
   "cell_type": "code",
   "execution_count": 47,
   "id": "9ab49daf",
   "metadata": {
    "scrolled": true
   },
   "outputs": [
    {
     "data": {
      "image/png": "[encoded data removed]",
      "text/plain": [
       "<Figure size 576x288 with 3 Axes>"
      ]
     },
     "metadata": {},
     "output_type": "display_data"
    }
   ],
   "source": [
    "shap.plots.waterfall(shap_values_boost[sample_ind])"
   ]
  },
  {
   "cell_type": "markdown",
   "id": "46fb248c",
   "metadata": {},
   "source": [
    "Use this if we want to plot alaska idk"
   ]
  },
  {
   "cell_type": "code",
   "execution_count": 78,
   "id": "7cba9e5d",
   "metadata": {},
   "outputs": [
    {
     "data": {
      "text/plain": [
       "(50.0, 61.0)"
      ]
     },
     "execution_count": 78,
     "metadata": {},
     "output_type": "execute_result"
    },
    {
     "data": {
      "image/png": "[encoded data removed]",
      "text/plain": [
       "<Figure size 720x432 with 1 Axes>"
      ]
     },
     "metadata": {
      "needs_background": "light"
     },
     "output_type": "display_data"
    }
   ],
   "source": [
    "\n",
    "geometry = [Point(xy) for xy in zip(X['lon_wp'], X['lat_wp'])]\n",
    "gdf = GeoDataFrame(X, geometry=geometry)   \n",
    "\n",
    "#this is a simple map that goes with geopandas\n",
    "world = gpd.read_file(gpd.datasets.get_path('naturalearth_lowres'))\n",
    "gdf.plot(ax=world.plot(figsize=(10, 6)), marker='o', color='red', markersize=.1)\n",
    "plt.xlim([-171, -130])\n",
    "plt.ylim([50, 61])"
   ]
  },
  {
   "cell_type": "code",
   "execution_count": null,
   "id": "4664372c",
   "metadata": {},
   "outputs": [],
   "source": []
  }
 ],
 "metadata": {
  "kernelspec": {
   "display_name": "Python 3 (ipykernel)",
   "language": "python",
   "name": "python3"
  },
  "language_info": {
   "codemirror_mode": {
    "name": "ipython",
    "version": 3
   },
   "file_extension": ".py",
   "mimetype": "text/x-python",
   "name": "python",
   "nbconvert_exporter": "python",
   "pygments_lexer": "ipython3",
   "version": "3.8.11"
  }
 },
 "nbformat": 4,
 "nbformat_minor": 5
}
